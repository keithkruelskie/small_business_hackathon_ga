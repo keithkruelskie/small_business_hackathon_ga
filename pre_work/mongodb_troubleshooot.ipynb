{
 "cells": [
  {
   "cell_type": "code",
   "execution_count": 3,
   "id": "allied-definition",
   "metadata": {},
   "outputs": [],
   "source": [
    "import pandas as pd\n",
    "from bson import ObjectId"
   ]
  },
  {
   "cell_type": "code",
   "execution_count": 4,
   "id": "imported-graphics",
   "metadata": {},
   "outputs": [],
   "source": [
    "business = {'_id': ObjectId('605bfb14b411550004301093'), 'businessId': 'IVeSLhijGTYMkBN0OjWn4g', 'name': 'Honduras Food', 'address': '7207 East Riverside Dr', 'city': 'Austin', 'state': 'TX', 'postalCode': 78741, 'latitude': 30.2204679681, 'longitude': -97.6946317032, 'stars': 4.5, 'attributes': '{\\'BusinessAcceptsCreditCards\\': \\'False\\', \\'RestaurantsAttire\\': \"\\'casual\\'\", \\'RestaurantsDelivery\\': \\'False\\', \\'GoodForKids\\': \\'True\\', \\'RestaurantsReservations\\': \\'False\\', \\'Alcohol\\': \"\\'none\\'\", \\'WiFi\\': \"\\'no\\'\", \\'OutdoorSeating\\': \\'True\\', \\'RestaurantsTakeOut\\': \\'True\\', \\'RestaurantsGoodForGroups\\': \\'True\\', \\'GoodForMeal\\': \"{\\'dessert\\': False, \\'latenight\\': False, \\'lunch\\': True, \\'dinner\\': False, \\'brunch\\': False, \\'breakfast\\': False}\", \\'Caters\\': \\'False\\', \\'NoiseLevel\\': \"u\\'average\\'\", \\'RestaurantsPriceRange2\\': \\'1\\', \\'BikeParking\\': \\'True\\', \\'HasTV\\': \\'True\\', \\'RestaurantsTableService\\': \\'False\\', \\'Ambience\\': \"{\\'touristy\\': False, \\'hipster\\': False, \\'romantic\\': False, \\'divey\\': None, \\'intimate\\': False, \\'trendy\\': False, \\'upscale\\': False, \\'classy\\': False, \\'casual\\': None}\", \\'BusinessParking\\': \"{\\'garage\\': False, \\'street\\': False, \\'validated\\': False, \\'lot\\': True, \\'valet\\': False}\"}', 'categories': 'Specialty Food, Restaurants, Caribbean, Ethnic Food, Imported Food, Food, Honduran', 'hours': \"{'Monday': '8:0-22:0', 'Tuesday': '8:0-22:0', 'Wednesday': '8:0-22:0', 'Thursday': '8:0-22:0', 'Friday': '8:0-22:0', 'Saturday': '8:0-22:0'}\", '__v': 0}"
   ]
  },
  {
   "cell_type": "code",
   "execution_count": 8,
   "id": "celtic-butler",
   "metadata": {},
   "outputs": [
    {
     "data": {
      "text/plain": [
       "dict"
      ]
     },
     "execution_count": 8,
     "metadata": {},
     "output_type": "execute_result"
    }
   ],
   "source": [
    "type(business)"
   ]
  },
  {
   "cell_type": "code",
   "execution_count": 9,
   "id": "bound-influence",
   "metadata": {},
   "outputs": [
    {
     "data": {
      "text/plain": [
       "ObjectId('605bfb14b411550004301093')"
      ]
     },
     "execution_count": 9,
     "metadata": {},
     "output_type": "execute_result"
    }
   ],
   "source": [
    "business['_id']"
   ]
  },
  {
   "cell_type": "code",
   "execution_count": 10,
   "id": "stuck-flight",
   "metadata": {},
   "outputs": [
    {
     "data": {
      "text/plain": [
       "'IVeSLhijGTYMkBN0OjWn4g'"
      ]
     },
     "execution_count": 10,
     "metadata": {},
     "output_type": "execute_result"
    }
   ],
   "source": [
    "business['businessId']"
   ]
  },
  {
   "cell_type": "code",
   "execution_count": null,
   "id": "collectible-norwegian",
   "metadata": {},
   "outputs": [],
   "source": []
  },
  {
   "cell_type": "code",
   "execution_count": 12,
   "id": "found-turner",
   "metadata": {},
   "outputs": [],
   "source": [
    "df = pd.DataFrame(business, index=[0])"
   ]
  },
  {
   "cell_type": "code",
   "execution_count": 13,
   "id": "lesbian-theta",
   "metadata": {},
   "outputs": [
    {
     "data": {
      "text/html": [
       "<div>\n",
       "<style scoped>\n",
       "    .dataframe tbody tr th:only-of-type {\n",
       "        vertical-align: middle;\n",
       "    }\n",
       "\n",
       "    .dataframe tbody tr th {\n",
       "        vertical-align: top;\n",
       "    }\n",
       "\n",
       "    .dataframe thead th {\n",
       "        text-align: right;\n",
       "    }\n",
       "</style>\n",
       "<table border=\"1\" class=\"dataframe\">\n",
       "  <thead>\n",
       "    <tr style=\"text-align: right;\">\n",
       "      <th></th>\n",
       "      <th>_id</th>\n",
       "      <th>businessId</th>\n",
       "      <th>name</th>\n",
       "      <th>address</th>\n",
       "      <th>city</th>\n",
       "      <th>state</th>\n",
       "      <th>postalCode</th>\n",
       "      <th>latitude</th>\n",
       "      <th>longitude</th>\n",
       "      <th>stars</th>\n",
       "      <th>attributes</th>\n",
       "      <th>categories</th>\n",
       "      <th>hours</th>\n",
       "      <th>__v</th>\n",
       "    </tr>\n",
       "  </thead>\n",
       "  <tbody>\n",
       "    <tr>\n",
       "      <th>0</th>\n",
       "      <td>605bfb14b411550004301093</td>\n",
       "      <td>IVeSLhijGTYMkBN0OjWn4g</td>\n",
       "      <td>Honduras Food</td>\n",
       "      <td>7207 East Riverside Dr</td>\n",
       "      <td>Austin</td>\n",
       "      <td>TX</td>\n",
       "      <td>78741</td>\n",
       "      <td>30.220468</td>\n",
       "      <td>-97.694632</td>\n",
       "      <td>4.5</td>\n",
       "      <td>{'BusinessAcceptsCreditCards': 'False', 'Resta...</td>\n",
       "      <td>Specialty Food, Restaurants, Caribbean, Ethnic...</td>\n",
       "      <td>{'Monday': '8:0-22:0', 'Tuesday': '8:0-22:0', ...</td>\n",
       "      <td>0</td>\n",
       "    </tr>\n",
       "  </tbody>\n",
       "</table>\n",
       "</div>"
      ],
      "text/plain": [
       "                        _id              businessId           name  \\\n",
       "0  605bfb14b411550004301093  IVeSLhijGTYMkBN0OjWn4g  Honduras Food   \n",
       "\n",
       "                  address    city state  postalCode   latitude  longitude  \\\n",
       "0  7207 East Riverside Dr  Austin    TX       78741  30.220468 -97.694632   \n",
       "\n",
       "   stars                                         attributes  \\\n",
       "0    4.5  {'BusinessAcceptsCreditCards': 'False', 'Resta...   \n",
       "\n",
       "                                          categories  \\\n",
       "0  Specialty Food, Restaurants, Caribbean, Ethnic...   \n",
       "\n",
       "                                               hours  __v  \n",
       "0  {'Monday': '8:0-22:0', 'Tuesday': '8:0-22:0', ...    0  "
      ]
     },
     "execution_count": 13,
     "metadata": {},
     "output_type": "execute_result"
    }
   ],
   "source": [
    "df.head()"
   ]
  },
  {
   "cell_type": "code",
   "execution_count": null,
   "id": "exact-summer",
   "metadata": {},
   "outputs": [],
   "source": []
  }
 ],
 "metadata": {
  "kernelspec": {
   "display_name": "Python 3",
   "language": "python",
   "name": "python3"
  },
  "language_info": {
   "codemirror_mode": {
    "name": "ipython",
    "version": 3
   },
   "file_extension": ".py",
   "mimetype": "text/x-python",
   "name": "python",
   "nbconvert_exporter": "python",
   "pygments_lexer": "ipython3",
   "version": "3.8.3"
  }
 },
 "nbformat": 4,
 "nbformat_minor": 5
}
